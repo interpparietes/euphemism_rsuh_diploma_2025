{
  "nbformat": 4,
  "nbformat_minor": 0,
  "metadata": {
    "colab": {
      "provenance": []
    },
    "kernelspec": {
      "name": "python3",
      "display_name": "Python 3"
    },
    "language_info": {
      "name": "python"
    }
  },
  "cells": [
    {
      "cell_type": "code",
      "source": [
        "!pip install -U g4f"
      ],
      "metadata": {
        "id": "zGYtH3oY3AuX"
      },
      "execution_count": null,
      "outputs": []
    },
    {
      "cell_type": "code",
      "source": [
        "import pandas as pd\n",
        "from g4f.client import Client\n",
        "from sklearn.metrics import f1_score"
      ],
      "metadata": {
        "id": "dDrEVbJm3CX7"
      },
      "execution_count": null,
      "outputs": []
    },
    {
      "cell_type": "code",
      "source": [
        "df = pd.read_csv(\"PATH_TO_DATASET\")\n",
        "text_column = \"Sentence\""
      ],
      "metadata": {
        "id": "JgPt_aQx3GZh"
      },
      "execution_count": null,
      "outputs": []
    },
    {
      "cell_type": "code",
      "source": [
        "# Инициализация клиента\n",
        "client = Client()"
      ],
      "metadata": {
        "id": "9jJdXU3v3Jsa"
      },
      "execution_count": null,
      "outputs": []
    },
    {
      "cell_type": "code",
      "source": [
        "# Настройка промпта\n",
        "system_prompt = (\n",
        "    \"Ты — лингвист. Определи, содержит ли данный текст эвфемизм.\\n\"\n",
        "    \"Опирайся на следующее определение: эвфемизм – это слово или выражение, которое используется вместо более прямого, грубого, табуированного или эмоционально окрашенного аналога, \"\n",
        "    \"с целью смягчить воздействие на слушателя или создать более приемлемое, социально или культурно удобное представление о предмете, явлении или действии.\\n\"\n",
        "    \"Эвфемизмы помогают говорить о сложных, нежелательных или пугающих вопросах без риска вызвать негативные ассоциации или нарушения социальных норм.\\n\"\n",
        "    \"Отвечай строго '1', если эвфемизм есть, или '0', если нет. Без объяснений и лишнего текста.\"\n",
        ")"
      ],
      "metadata": {
        "id": "XfcRRVSn3bD3"
      },
      "execution_count": null,
      "outputs": []
    },
    {
      "cell_type": "code",
      "source": [
        "few_shot = \"\"\"\n",
        "Предложение: \"Он ушёл из жизни несколько лет назад.\"\n",
        "Ответ: 1\n",
        "\n",
        "Предложение: \"Она не очень здорова, поэтому пропустила встречу.\"\n",
        "Ответ: 1\n",
        "\n",
        "Предложение: \"иди в баню!)\"\n",
        "Ответ: 1\n",
        "\n",
        "Предложение: \"Почему же Соединенные Штаты не нанесли удар по этим странам?\"\n",
        "Ответ: 1\n",
        "\n",
        "Предложение: \"Некоторым самолётам на авиабазе было приказано бомбить позиции повстанцев.\"\n",
        "Ответ: 0\n",
        "\n",
        "Предложение: \"Спустя несколько дней тренер умер в больнице\"\n",
        "Ответ: 0\n",
        "\n",
        "Предложение: \"В результате инвалид не может комфортно посетить туалет и даже добраться до раковины.\"\n",
        "Ответ: 0\n",
        "\n",
        "Предложение: \"Серьезной и повсеместной проблемой Афганистана остаются наркотики.\"\n",
        "Ответ: 0\n",
        "\"\"\""
      ],
      "metadata": {
        "id": "Cp_nKK0g3d9u"
      },
      "execution_count": null,
      "outputs": []
    },
    {
      "cell_type": "code",
      "source": [
        "def classify(sentence, with_examples=True):\n",
        "    user_prompt = f'\\n\\nПредложение: \"{sentence}\"\\nОтвет:'\n",
        "    messages = [\n",
        "        {\"role\": \"system\", \"content\": system_prompt},\n",
        "        {\"role\": \"user\", \"content\": (few_shot if with_examples else \"\") + user_prompt}\n",
        "    ]\n",
        "    try:\n",
        "        response = client.chat.completions.create(\n",
        "            model=\"gpt-4o\",\n",
        "            messages=messages,\n",
        "        )\n",
        "        content = response.choices[0].message.content.strip()\n",
        "        print(f\"[{sentence}] => {content}\")\n",
        "        if \"1\" in content:\n",
        "            return 1\n",
        "        elif \"0\" in content:\n",
        "            return 0\n",
        "        else:\n",
        "            return None\n",
        "    except Exception as e:\n",
        "        print(f\"Ошибка при обработке '{sentence}': {e}\")\n",
        "        return None"
      ],
      "metadata": {
        "id": "yqSoong33gs_"
      },
      "execution_count": null,
      "outputs": []
    },
    {
      "cell_type": "code",
      "source": [
        "# Тест\n",
        "print(classify(\"Он ушёл в лучший мир.\"))"
      ],
      "metadata": {
        "id": "SSKDgZl_3lKW"
      },
      "execution_count": null,
      "outputs": []
    },
    {
      "cell_type": "code",
      "source": [
        "# Классификация\n",
        "df[\"label_zero_shot\"] = df[text_column].apply(lambda x: classify(x, with_examples=False))\n",
        "df[\"label_few_shot\"] = df[text_column].apply(lambda x: classify(x, with_examples=True))"
      ],
      "metadata": {
        "id": "7vnRp6xH3qY0"
      },
      "execution_count": null,
      "outputs": []
    },
    {
      "cell_type": "code",
      "source": [
        "df.head()"
      ],
      "metadata": {
        "id": "cDPnlBww3-Sd"
      },
      "execution_count": null,
      "outputs": []
    },
    {
      "cell_type": "code",
      "source": [
        "from sklearn.metrics import f1_score\n",
        "\n",
        "# Фильтруем пустые строки, если есть\n",
        "df_filtered_zero_shot = df.dropna(subset=['True label', 'label_zero_shot']).copy()\n",
        "df_filtered_few_shot = df.dropna(subset=['True label', 'label_few_shot']).copy()\n",
        "\n",
        "# F1 в целом\n",
        "f1_zero_overall = f1_score(df_filtered_zero_shot['True label'], df_filtered_zero_shot['label_zero_shot'], average='binary')\n",
        "f1_few_overall = f1_score(df_filtered_few_shot['True label'], df_filtered_few_shot['label_few_shot'], average='binary')\n",
        "\n",
        "# F1 по классам\n",
        "f1_zero_per_class = f1_score(df_filtered_zero_shot['True label'], df_filtered_zero_shot['label_zero_shot'], average=None, labels=[0, 1])\n",
        "f1_few_per_class = f1_score(df_filtered_few_shot['True label'], df_filtered_few_shot['label_few_shot'], average=None, labels=[0, 1])\n",
        "\n",
        "print(f\"F1 Zero-shot (общая): {f1_zero_overall:.4f}\")\n",
        "print(f\"F1 Few-shot (общая): {f1_few_overall:.4f}\")\n",
        "print()\n",
        "print(f\"F1 Zero-shot — класс 0 (не эвфемизм): {f1_zero_per_class[0]:.4f}\")\n",
        "print(f\"F1 Zero-shot — класс 1 (эвфемизм):    {f1_zero_per_class[1]:.4f}\")\n",
        "print()\n",
        "print(f\"F1 Few-shot — класс 0 (не эвфемизм):  {f1_few_per_class[0]:.4f}\")\n",
        "print(f\"F1 Few-shot — класс 1 (эвфемизм):     {f1_few_per_class[1]:.4f}\")"
      ],
      "metadata": {
        "id": "_dsKum0NRCr_"
      },
      "execution_count": null,
      "outputs": []
    },
    {
      "cell_type": "code",
      "source": [
        "df.to_csv(\"LLM_experiment.csv\", index=False)"
      ],
      "metadata": {
        "id": "ysR_Ritc4DhM"
      },
      "execution_count": null,
      "outputs": []
    }
  ]
}